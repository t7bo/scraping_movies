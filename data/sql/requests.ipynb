{
 "cells": [
  {
   "cell_type": "code",
   "execution_count": 1,
   "metadata": {},
   "outputs": [],
   "source": [
    "%load_ext sql"
   ]
  },
  {
   "cell_type": "code",
   "execution_count": 2,
   "metadata": {},
   "outputs": [],
   "source": [
    "# Quel est le film le plus long ? "
   ]
  },
  {
   "cell_type": "code",
   "execution_count": 3,
   "metadata": {},
   "outputs": [
    {
     "name": "stdout",
     "output_type": "stream",
     "text": [
      "Done.\n"
     ]
    },
    {
     "data": {
      "text/html": [
       "<table>\n",
       "    <thead>\n",
       "        <tr>\n",
       "            <th>title</th>\n",
       "            <th>screening</th>\n",
       "        </tr>\n",
       "    </thead>\n",
       "    <tbody>\n",
       "        <tr>\n",
       "            <td>Gone With The Wind</td>\n",
       "            <td>238</td>\n",
       "        </tr>\n",
       "    </tbody>\n",
       "</table>"
      ],
      "text/plain": [
       "[('Gone With The Wind', 238)]"
      ]
     },
     "execution_count": 3,
     "metadata": {},
     "output_type": "execute_result"
    }
   ],
   "source": [
    "%%sql sqlite:///../database/imdb.db\n",
    "SELECT title, screening FROM movies\n",
    "ORDER BY screening DESC\n",
    "LIMIT 1"
   ]
  },
  {
   "cell_type": "code",
   "execution_count": 4,
   "metadata": {},
   "outputs": [],
   "source": [
    "# Quels sont les 5 films les mieux notés ?"
   ]
  },
  {
   "cell_type": "code",
   "execution_count": 5,
   "metadata": {},
   "outputs": [
    {
     "name": "stdout",
     "output_type": "stream",
     "text": [
      "Done.\n"
     ]
    },
    {
     "data": {
      "text/html": [
       "<table>\n",
       "    <thead>\n",
       "        <tr>\n",
       "            <th>title</th>\n",
       "            <th>mark</th>\n",
       "        </tr>\n",
       "    </thead>\n",
       "    <tbody>\n",
       "        <tr>\n",
       "            <td>The Shawshank Redemption</td>\n",
       "            <td>9.3</td>\n",
       "        </tr>\n",
       "        <tr>\n",
       "            <td>The Godfather</td>\n",
       "            <td>9.2</td>\n",
       "        </tr>\n",
       "        <tr>\n",
       "            <td>12Th Fail</td>\n",
       "            <td>9.0</td>\n",
       "        </tr>\n",
       "        <tr>\n",
       "            <td>The Lord Of The Rings: The Return Of The King</td>\n",
       "            <td>9.0</td>\n",
       "        </tr>\n",
       "        <tr>\n",
       "            <td>Schindler&#x27;S List</td>\n",
       "            <td>9.0</td>\n",
       "        </tr>\n",
       "    </tbody>\n",
       "</table>"
      ],
      "text/plain": [
       "[('The Shawshank Redemption', 9.3),\n",
       " ('The Godfather', 9.2),\n",
       " ('12Th Fail', 9.0),\n",
       " ('The Lord Of The Rings: The Return Of The King', 9.0),\n",
       " (\"Schindler'S List\", 9.0)]"
      ]
     },
     "execution_count": 5,
     "metadata": {},
     "output_type": "execute_result"
    }
   ],
   "source": [
    "%%sql sqlite:///../database/imdb.db\n",
    "SELECT title, mark FROM movies\n",
    "ORDER BY mark DESC\n",
    "LIMIT 5"
   ]
  },
  {
   "cell_type": "code",
   "execution_count": 6,
   "metadata": {},
   "outputs": [],
   "source": [
    "# Dans combien de films a joué Morgan Freeman ? Tom Cruise ?"
   ]
  },
  {
   "cell_type": "code",
   "execution_count": 7,
   "metadata": {},
   "outputs": [
    {
     "name": "stdout",
     "output_type": "stream",
     "text": [
      "Done.\n"
     ]
    },
    {
     "data": {
      "text/html": [
       "<table>\n",
       "    <thead>\n",
       "        <tr>\n",
       "            <th>title</th>\n",
       "            <th>casting</th>\n",
       "        </tr>\n",
       "    </thead>\n",
       "    <tbody>\n",
       "        <tr>\n",
       "            <td>The Shawshank Redemption</td>\n",
       "            <td>Bob Gunton, Renee Blaine, Scott Mann, Morgan Freeman, Gil Bellows, Jude Ciccolella, William Sadler, Clancy Brown, Neil Giuntoli, David Proval, Brian Libby, Tim Robbins, Joseph Ragno, Paul McCrane, Jeffrey DeMunn, James Whitmore, Mark Rolston, Larry Brandenburg</td>\n",
       "        </tr>\n",
       "        <tr>\n",
       "            <td>Million Dollar Baby</td>\n",
       "            <td>Clint Eastwood, Riki Lindhome, Morgan Freeman, Benito Martinez, Jay Baruchel, Brían F. OByrne, Bruce MacVittie, Hilary Swank, Tom McCleister, Lucia Rijker, Joe DAngerio, Mike Colter, David Powledge, Erica Grant, Marcus Chait, Anthony Mackie, Michael Peña, Margo Martindale</td>\n",
       "        </tr>\n",
       "        <tr>\n",
       "            <td>Unforgiven</td>\n",
       "            <td>Clint Eastwood, Rob Campbell, Cherrilene Cardinal, Morgan Freeman, David Mucci, Beverley Elliott, Anna Thomson, Jaimz Woolvett, Liisa Repo-Martell, Anthony James, Shane Meier, Saul Rubinek, Tara Frederick, Josie Smith, Aline Levasseur, Frances Fisher, Gene Hackman, Richard Harris</td>\n",
       "        </tr>\n",
       "        <tr>\n",
       "            <td>Batman Begins</td>\n",
       "            <td>Ken Watanabe, Gerard Murphy, Christian Bale, Rutger Hauer, Morgan Freeman, Mark Boone Junior, Larry Holden, Sara Stewart, Colin McFarlane, Katie Holmes, Cillian Murphy, Liam Neeson, Michael Caine, Linus Roache, Richard Brake, Tom Wilkinson, Gary Oldman, Gus Lewis</td>\n",
       "        </tr>\n",
       "        <tr>\n",
       "            <td>The Dark Knight Rises</td>\n",
       "            <td>Tom Hardy, Brett Cullen, Christian Bale, Morgan Freeman, Alon Aboutboul, Ben Mendelsohn, Daniel Sunjata, Sam Kennard, Burn Gorman, Michael Caine, Aliash Tepina, Matthew Modine, Marion Cotillard, Anne Hathaway, Aidan Gillen, Nestor Carbonell, Gary Oldman, Joseph Gordon-Levitt</td>\n",
       "        </tr>\n",
       "        <tr>\n",
       "            <td>Se7En</td>\n",
       "            <td>Hawthorne James, R. Lee Ermey, Brad Pitt, Morgan Freeman, Jimmy Dale Hartsell, Gwyneth Paltrow, Bob Mack, George Christy, Andrew Kevin Walker, Reg E. Cathey, Bob Collins, Kevin Spacey, Richard Roundtree, Peter Crombie, Daniel Zacapa, William Davidson, John Cassini, Endre Hules</td>\n",
       "        </tr>\n",
       "        <tr>\n",
       "            <td>The Dark Knight</td>\n",
       "            <td>Chin Han, Heath Ledger, Nestor Carbonell, Christian Bale, Morgan Freeman, Keith Szarabajka, Anthony Michael Hall, Eric Roberts, Colin McFarlane, Maggie Gyllenhaal, Monique Gabriela Curnen, Cillian Murphy, Aaron Eckhart, Michael Caine, Ritchie Coster, Ron Dean, Joshua Harto, Gary Oldman</td>\n",
       "        </tr>\n",
       "    </tbody>\n",
       "</table>"
      ],
      "text/plain": [
       "[('The Shawshank Redemption', 'Bob Gunton, Renee Blaine, Scott Mann, Morgan Freeman, Gil Bellows, Jude Ciccolella, William Sadler, Clancy Brown, Neil Giuntoli, David Proval, Brian Libby, Tim Robbins, Joseph Ragno, Paul McCrane, Jeffrey DeMunn, James Whitmore, Mark Rolston, Larry Brandenburg'),\n",
       " ('Million Dollar Baby', 'Clint Eastwood, Riki Lindhome, Morgan Freeman, Benito Martinez, Jay Baruchel, Brían F. OByrne, Bruce MacVittie, Hilary Swank, Tom McCleister, Lucia Rijker, Joe DAngerio, Mike Colter, David Powledge, Erica Grant, Marcus Chait, Anthony Mackie, Michael Peña, Margo Martindale'),\n",
       " ('Unforgiven', 'Clint Eastwood, Rob Campbell, Cherrilene Cardinal, Morgan Freeman, David Mucci, Beverley Elliott, Anna Thomson, Jaimz Woolvett, Liisa Repo-Martell, Anthony James, Shane Meier, Saul Rubinek, Tara Frederick, Josie Smith, Aline Levasseur, Frances Fisher, Gene Hackman, Richard Harris'),\n",
       " ('Batman Begins', 'Ken Watanabe, Gerard Murphy, Christian Bale, Rutger Hauer, Morgan Freeman, Mark Boone Junior, Larry Holden, Sara Stewart, Colin McFarlane, Katie Holmes, Cillian Murphy, Liam Neeson, Michael Caine, Linus Roache, Richard Brake, Tom Wilkinson, Gary Oldman, Gus Lewis'),\n",
       " ('The Dark Knight Rises', 'Tom Hardy, Brett Cullen, Christian Bale, Morgan Freeman, Alon Aboutboul, Ben Mendelsohn, Daniel Sunjata, Sam Kennard, Burn Gorman, Michael Caine, Aliash Tepina, Matthew Modine, Marion Cotillard, Anne Hathaway, Aidan Gillen, Nestor Carbonell, Gary Oldman, Joseph Gordon-Levitt'),\n",
       " ('Se7En', 'Hawthorne James, R. Lee Ermey, Brad Pitt, Morgan Freeman, Jimmy Dale Hartsell, Gwyneth Paltrow, Bob Mack, George Christy, Andrew Kevin Walker, Reg E. Cathey, Bob Collins, Kevin Spacey, Richard Roundtree, Peter Crombie, Daniel Zacapa, William Davidson, John Cassini, Endre Hules'),\n",
       " ('The Dark Knight', 'Chin Han, Heath Ledger, Nestor Carbonell, Christian Bale, Morgan Freeman, Keith Szarabajka, Anthony Michael Hall, Eric Roberts, Colin McFarlane, Maggie Gyllenhaal, Monique Gabriela Curnen, Cillian Murphy, Aaron Eckhart, Michael Caine, Ritchie Coster, Ron Dean, Joshua Harto, Gary Oldman')]"
      ]
     },
     "execution_count": 7,
     "metadata": {},
     "output_type": "execute_result"
    }
   ],
   "source": [
    "%%sql sqlite:///../database/imdb.db\n",
    "SELECT title, casting FROM movies\n",
    "WHERE casting LIKE '%Morgan Freeman%'"
   ]
  },
  {
   "cell_type": "code",
   "execution_count": 8,
   "metadata": {},
   "outputs": [
    {
     "name": "stdout",
     "output_type": "stream",
     "text": [
      "Done.\n"
     ]
    },
    {
     "data": {
      "text/html": [
       "<table>\n",
       "    <thead>\n",
       "        <tr>\n",
       "            <th>title</th>\n",
       "            <th>casting</th>\n",
       "        </tr>\n",
       "    </thead>\n",
       "    <tbody>\n",
       "        <tr>\n",
       "            <td>Top Gun: Maverick</td>\n",
       "            <td>Lewis Pullman, Tom Cruise, Kara Wang, Greg Tarzan Davis, Jack Schumacher, Charles Parnell, Raymond Lee, Jon Hamm, Miles Teller, Jennifer Connelly, Val Kilmer, Jay Ellis, Danny Ramirez, Monica Barbaro, Glen Powell, Manny Jacinto, Jake Picking, Bashir Salahuddin</td>\n",
       "        </tr>\n",
       "    </tbody>\n",
       "</table>"
      ],
      "text/plain": [
       "[('Top Gun: Maverick', 'Lewis Pullman, Tom Cruise, Kara Wang, Greg Tarzan Davis, Jack Schumacher, Charles Parnell, Raymond Lee, Jon Hamm, Miles Teller, Jennifer Connelly, Val Kilmer, Jay Ellis, Danny Ramirez, Monica Barbaro, Glen Powell, Manny Jacinto, Jake Picking, Bashir Salahuddin')]"
      ]
     },
     "execution_count": 8,
     "metadata": {},
     "output_type": "execute_result"
    }
   ],
   "source": [
    "%%sql sqlite:///../database/imdb.db\n",
    "SELECT title, casting FROM movies\n",
    "WHERE casting LIKE '%Tom Cruise%'"
   ]
  },
  {
   "cell_type": "code",
   "execution_count": 9,
   "metadata": {},
   "outputs": [],
   "source": [
    "# Quels sont les 3 meilleurs films d’horreur ? Dramatique ? Comique ?"
   ]
  },
  {
   "cell_type": "code",
   "execution_count": 10,
   "metadata": {},
   "outputs": [
    {
     "name": "stdout",
     "output_type": "stream",
     "text": [
      "Done.\n"
     ]
    },
    {
     "data": {
      "text/html": [
       "<table>\n",
       "    <thead>\n",
       "        <tr>\n",
       "            <th>title</th>\n",
       "            <th>mark</th>\n",
       "        </tr>\n",
       "    </thead>\n",
       "    <tbody>\n",
       "        <tr>\n",
       "            <td>Psycho</td>\n",
       "            <td>8.5</td>\n",
       "        </tr>\n",
       "        <tr>\n",
       "            <td>Alien</td>\n",
       "            <td>8.5</td>\n",
       "        </tr>\n",
       "        <tr>\n",
       "            <td>The Shining</td>\n",
       "            <td>8.4</td>\n",
       "        </tr>\n",
       "    </tbody>\n",
       "</table>"
      ],
      "text/plain": [
       "[('Psycho', 8.5), ('Alien', 8.5), ('The Shining', 8.4)]"
      ]
     },
     "execution_count": 10,
     "metadata": {},
     "output_type": "execute_result"
    }
   ],
   "source": [
    "%%sql sqlite:///../database/imdb.db\n",
    "SELECT title, mark FROM movies\n",
    "WHERE category LIKE '%Horror%'\n",
    "ORDER BY mark DESC\n",
    "LIMIT 3"
   ]
  },
  {
   "cell_type": "code",
   "execution_count": 11,
   "metadata": {},
   "outputs": [
    {
     "name": "stdout",
     "output_type": "stream",
     "text": [
      "Done.\n"
     ]
    },
    {
     "data": {
      "text/html": [
       "<table>\n",
       "    <thead>\n",
       "        <tr>\n",
       "            <th>title</th>\n",
       "            <th>mark</th>\n",
       "        </tr>\n",
       "    </thead>\n",
       "    <tbody>\n",
       "        <tr>\n",
       "            <td>The Shawshank Redemption</td>\n",
       "            <td>9.3</td>\n",
       "        </tr>\n",
       "        <tr>\n",
       "            <td>The Godfather</td>\n",
       "            <td>9.2</td>\n",
       "        </tr>\n",
       "        <tr>\n",
       "            <td>12Th Fail</td>\n",
       "            <td>9.0</td>\n",
       "        </tr>\n",
       "    </tbody>\n",
       "</table>"
      ],
      "text/plain": [
       "[('The Shawshank Redemption', 9.3), ('The Godfather', 9.2), ('12Th Fail', 9.0)]"
      ]
     },
     "execution_count": 11,
     "metadata": {},
     "output_type": "execute_result"
    }
   ],
   "source": [
    "%%sql sqlite:///../database/imdb.db\n",
    "SELECT title, mark FROM movies\n",
    "WHERE category LIKE '%Drama%'\n",
    "ORDER BY mark DESC\n",
    "LIMIT 3"
   ]
  },
  {
   "cell_type": "code",
   "execution_count": 12,
   "metadata": {},
   "outputs": [
    {
     "name": "stdout",
     "output_type": "stream",
     "text": [
      "Done.\n"
     ]
    },
    {
     "data": {
      "text/html": [
       "<table>\n",
       "    <thead>\n",
       "        <tr>\n",
       "            <th>title</th>\n",
       "            <th>mark</th>\n",
       "        </tr>\n",
       "    </thead>\n",
       "    <tbody>\n",
       "        <tr>\n",
       "            <td>Life Is Beautiful</td>\n",
       "            <td>8.6</td>\n",
       "        </tr>\n",
       "        <tr>\n",
       "            <td>Back To The Future</td>\n",
       "            <td>8.5</td>\n",
       "        </tr>\n",
       "        <tr>\n",
       "            <td>City Lights</td>\n",
       "            <td>8.5</td>\n",
       "        </tr>\n",
       "    </tbody>\n",
       "</table>"
      ],
      "text/plain": [
       "[('Life Is Beautiful', 8.6), ('Back To The Future', 8.5), ('City Lights', 8.5)]"
      ]
     },
     "execution_count": 12,
     "metadata": {},
     "output_type": "execute_result"
    }
   ],
   "source": [
    "%%sql sqlite:///../database/imdb.db\n",
    "SELECT title, mark FROM movies\n",
    "WHERE category LIKE '%Comedy%'\n",
    "ORDER BY mark DESC\n",
    "LIMIT 3"
   ]
  },
  {
   "cell_type": "code",
   "execution_count": 13,
   "metadata": {},
   "outputs": [],
   "source": [
    "# Parmi les 100 films les mieux notés, quel pourcentage sont américains ? Français ?"
   ]
  },
  {
   "cell_type": "code",
   "execution_count": 14,
   "metadata": {},
   "outputs": [
    {
     "name": "stdout",
     "output_type": "stream",
     "text": [
      "Done.\n"
     ]
    },
    {
     "data": {
      "text/html": [
       "<table>\n",
       "    <thead>\n",
       "        <tr>\n",
       "            <th>count(title)</th>\n",
       "            <th>country</th>\n",
       "        </tr>\n",
       "    </thead>\n",
       "    <tbody>\n",
       "        <tr>\n",
       "            <td>77</td>\n",
       "            <td>United States</td>\n",
       "        </tr>\n",
       "    </tbody>\n",
       "</table>"
      ],
      "text/plain": [
       "[(77, 'United States')]"
      ]
     },
     "execution_count": 14,
     "metadata": {},
     "output_type": "execute_result"
    }
   ],
   "source": [
    "%%sql sqlite:///../database/imdb.db\n",
    "SELECT count(title), country FROM (\n",
    "SELECT title, mark, country FROM movies\n",
    "ORDER BY mark DESC\n",
    "LIMIT 100) AS top_100\n",
    "WHERE country LIKE '%United States%'"
   ]
  },
  {
   "cell_type": "code",
   "execution_count": 15,
   "metadata": {},
   "outputs": [
    {
     "name": "stdout",
     "output_type": "stream",
     "text": [
      "Done.\n"
     ]
    },
    {
     "data": {
      "text/html": [
       "<table>\n",
       "    <thead>\n",
       "        <tr>\n",
       "            <th>count(title)</th>\n",
       "            <th>country</th>\n",
       "        </tr>\n",
       "    </thead>\n",
       "    <tbody>\n",
       "        <tr>\n",
       "            <td>17</td>\n",
       "            <td>Brazil, France, Germany</td>\n",
       "        </tr>\n",
       "    </tbody>\n",
       "</table>"
      ],
      "text/plain": [
       "[(17, 'Brazil, France, Germany')]"
      ]
     },
     "execution_count": 15,
     "metadata": {},
     "output_type": "execute_result"
    }
   ],
   "source": [
    "%%sql sqlite:///../database/imdb.db\n",
    "SELECT count(title), country FROM (\n",
    "SELECT title, mark, country FROM movies\n",
    "GROUP BY country\n",
    "ORDER BY mark DESC\n",
    "LIMIT 100) AS top_100\n",
    "WHERE country LIKE '%France%'"
   ]
  },
  {
   "cell_type": "code",
   "execution_count": 16,
   "metadata": {},
   "outputs": [],
   "source": [
    "# Quel est la durée moyenne d’un film en fonction du genre ?"
   ]
  },
  {
   "cell_type": "code",
   "execution_count": 17,
   "metadata": {},
   "outputs": [
    {
     "name": "stdout",
     "output_type": "stream",
     "text": [
      "Done.\n"
     ]
    },
    {
     "data": {
      "text/html": [
       "<table>\n",
       "    <thead>\n",
       "        <tr>\n",
       "            <th>movie_category</th>\n",
       "            <th>mean_screening</th>\n",
       "        </tr>\n",
       "    </thead>\n",
       "    <tbody>\n",
       "        <tr>\n",
       "            <td>Action</td>\n",
       "            <td>137.0</td>\n",
       "        </tr>\n",
       "        <tr>\n",
       "            <td>Adventure</td>\n",
       "            <td>132.0</td>\n",
       "        </tr>\n",
       "        <tr>\n",
       "            <td>Animation</td>\n",
       "            <td>104.0</td>\n",
       "        </tr>\n",
       "        <tr>\n",
       "            <td>Biography</td>\n",
       "            <td>145.0</td>\n",
       "        </tr>\n",
       "        <tr>\n",
       "            <td>Comedy</td>\n",
       "            <td>106.0</td>\n",
       "        </tr>\n",
       "        <tr>\n",
       "            <td>Crime</td>\n",
       "            <td>131.0</td>\n",
       "        </tr>\n",
       "        <tr>\n",
       "            <td>Drama</td>\n",
       "            <td>135.0</td>\n",
       "        </tr>\n",
       "        <tr>\n",
       "            <td>Family</td>\n",
       "            <td>114.0</td>\n",
       "        </tr>\n",
       "        <tr>\n",
       "            <td>Fantasy</td>\n",
       "            <td>124.0</td>\n",
       "        </tr>\n",
       "        <tr>\n",
       "            <td>Film-Noir</td>\n",
       "            <td>103.0</td>\n",
       "        </tr>\n",
       "        <tr>\n",
       "            <td>History</td>\n",
       "            <td>143.0</td>\n",
       "        </tr>\n",
       "        <tr>\n",
       "            <td>Horror</td>\n",
       "            <td>121.0</td>\n",
       "        </tr>\n",
       "        <tr>\n",
       "            <td>Music</td>\n",
       "            <td>134.0</td>\n",
       "        </tr>\n",
       "        <tr>\n",
       "            <td>Musical</td>\n",
       "            <td>103.0</td>\n",
       "        </tr>\n",
       "        <tr>\n",
       "            <td>Mystery</td>\n",
       "            <td>124.0</td>\n",
       "        </tr>\n",
       "        <tr>\n",
       "            <td>Romance</td>\n",
       "            <td>123.0</td>\n",
       "        </tr>\n",
       "        <tr>\n",
       "            <td>Sci-Fi</td>\n",
       "            <td>132.0</td>\n",
       "        </tr>\n",
       "        <tr>\n",
       "            <td>Sport</td>\n",
       "            <td>123.0</td>\n",
       "        </tr>\n",
       "        <tr>\n",
       "            <td>Thriller</td>\n",
       "            <td>125.0</td>\n",
       "        </tr>\n",
       "        <tr>\n",
       "            <td>War</td>\n",
       "            <td>142.0</td>\n",
       "        </tr>\n",
       "        <tr>\n",
       "            <td>Western</td>\n",
       "            <td>154.0</td>\n",
       "        </tr>\n",
       "    </tbody>\n",
       "</table>"
      ],
      "text/plain": [
       "[('Action', 137.0),\n",
       " ('Adventure', 132.0),\n",
       " ('Animation', 104.0),\n",
       " ('Biography', 145.0),\n",
       " ('Comedy', 106.0),\n",
       " ('Crime', 131.0),\n",
       " ('Drama', 135.0),\n",
       " ('Family', 114.0),\n",
       " ('Fantasy', 124.0),\n",
       " ('Film-Noir', 103.0),\n",
       " ('History', 143.0),\n",
       " ('Horror', 121.0),\n",
       " ('Music', 134.0),\n",
       " ('Musical', 103.0),\n",
       " ('Mystery', 124.0),\n",
       " ('Romance', 123.0),\n",
       " ('Sci-Fi', 132.0),\n",
       " ('Sport', 123.0),\n",
       " ('Thriller', 125.0),\n",
       " ('War', 142.0),\n",
       " ('Western', 154.0)]"
      ]
     },
     "execution_count": 17,
     "metadata": {},
     "output_type": "execute_result"
    }
   ],
   "source": [
    "%%sql sqlite:///../database/imdb.db\n",
    "SELECT movie_category, round(avg(screening)) as mean_screening\n",
    "FROM (\n",
    "    SELECT m.*, c.category AS movie_category\n",
    "    FROM movies m\n",
    "    JOIN categories c ON ',' || m.category || ',' LIKE '%' || c.category || ',%')\n",
    "GROUP BY movie_category"
   ]
  },
  {
   "cell_type": "code",
   "execution_count": 18,
   "metadata": {},
   "outputs": [],
   "source": [
    "# En fonction du genre, afficher la liste des films les plus longs."
   ]
  },
  {
   "cell_type": "code",
   "execution_count": 19,
   "metadata": {},
   "outputs": [
    {
     "name": "stdout",
     "output_type": "stream",
     "text": [
      "Done.\n"
     ]
    },
    {
     "data": {
      "text/html": [
       "<table>\n",
       "    <thead>\n",
       "        <tr>\n",
       "            <th>title</th>\n",
       "            <th>max(screening)</th>\n",
       "            <th>movie_category</th>\n",
       "        </tr>\n",
       "    </thead>\n",
       "    <tbody>\n",
       "        <tr>\n",
       "            <td>Gone With The Wind</td>\n",
       "            <td>238</td>\n",
       "            <td>Drama</td>\n",
       "        </tr>\n",
       "        <tr>\n",
       "            <td>Gone With The Wind</td>\n",
       "            <td>238</td>\n",
       "            <td>Romance</td>\n",
       "        </tr>\n",
       "        <tr>\n",
       "            <td>Gone With The Wind</td>\n",
       "            <td>238</td>\n",
       "            <td>War</td>\n",
       "        </tr>\n",
       "        <tr>\n",
       "            <td>Once Upon A Time In America</td>\n",
       "            <td>229</td>\n",
       "            <td>Crime</td>\n",
       "        </tr>\n",
       "        <tr>\n",
       "            <td>Lawrence Of Arabia</td>\n",
       "            <td>218</td>\n",
       "            <td>Adventure</td>\n",
       "        </tr>\n",
       "        <tr>\n",
       "            <td>Lawrence Of Arabia</td>\n",
       "            <td>218</td>\n",
       "            <td>Biography</td>\n",
       "        </tr>\n",
       "        <tr>\n",
       "            <td>Seven Samurai</td>\n",
       "            <td>207</td>\n",
       "            <td>Action</td>\n",
       "        </tr>\n",
       "        <tr>\n",
       "            <td>Schindler&#x27;S List</td>\n",
       "            <td>195</td>\n",
       "            <td>History</td>\n",
       "        </tr>\n",
       "        <tr>\n",
       "            <td>The Green Mile</td>\n",
       "            <td>189</td>\n",
       "            <td>Fantasy</td>\n",
       "        </tr>\n",
       "        <tr>\n",
       "            <td>Dances With Wolves</td>\n",
       "            <td>181</td>\n",
       "            <td>Western</td>\n",
       "        </tr>\n",
       "        <tr>\n",
       "            <td>The Sound Of Music</td>\n",
       "            <td>172</td>\n",
       "            <td>Family</td>\n",
       "        </tr>\n",
       "        <tr>\n",
       "            <td>The Great Escape</td>\n",
       "            <td>172</td>\n",
       "            <td>Thriller</td>\n",
       "        </tr>\n",
       "        <tr>\n",
       "            <td>3 Idiots</td>\n",
       "            <td>170</td>\n",
       "            <td>Comedy</td>\n",
       "        </tr>\n",
       "        <tr>\n",
       "            <td>Interstellar</td>\n",
       "            <td>169</td>\n",
       "            <td>Sci-Fi</td>\n",
       "        </tr>\n",
       "        <tr>\n",
       "            <td>Amadeus</td>\n",
       "            <td>160</td>\n",
       "            <td>Music</td>\n",
       "        </tr>\n",
       "        <tr>\n",
       "            <td>Prisoners</td>\n",
       "            <td>153</td>\n",
       "            <td>Mystery</td>\n",
       "        </tr>\n",
       "        <tr>\n",
       "            <td>The Shining</td>\n",
       "            <td>146</td>\n",
       "            <td>Horror</td>\n",
       "        </tr>\n",
       "        <tr>\n",
       "            <td>Spider-Man: Across The Spider-Verse</td>\n",
       "            <td>140</td>\n",
       "            <td>Animation</td>\n",
       "        </tr>\n",
       "        <tr>\n",
       "            <td>Warrior</td>\n",
       "            <td>140</td>\n",
       "            <td>Sport</td>\n",
       "        </tr>\n",
       "        <tr>\n",
       "            <td>Sunset Blvd.</td>\n",
       "            <td>110</td>\n",
       "            <td>Film-Noir</td>\n",
       "        </tr>\n",
       "        <tr>\n",
       "            <td>Singin&#x27; In The Rain</td>\n",
       "            <td>103</td>\n",
       "            <td>Musical</td>\n",
       "        </tr>\n",
       "    </tbody>\n",
       "</table>"
      ],
      "text/plain": [
       "[('Gone With The Wind', 238, 'Drama'),\n",
       " ('Gone With The Wind', 238, 'Romance'),\n",
       " ('Gone With The Wind', 238, 'War'),\n",
       " ('Once Upon A Time In America', 229, 'Crime'),\n",
       " ('Lawrence Of Arabia', 218, 'Adventure'),\n",
       " ('Lawrence Of Arabia', 218, 'Biography'),\n",
       " ('Seven Samurai', 207, 'Action'),\n",
       " (\"Schindler'S List\", 195, 'History'),\n",
       " ('The Green Mile', 189, 'Fantasy'),\n",
       " ('Dances With Wolves', 181, 'Western'),\n",
       " ('The Sound Of Music', 172, 'Family'),\n",
       " ('The Great Escape', 172, 'Thriller'),\n",
       " ('3 Idiots', 170, 'Comedy'),\n",
       " ('Interstellar', 169, 'Sci-Fi'),\n",
       " ('Amadeus', 160, 'Music'),\n",
       " ('Prisoners', 153, 'Mystery'),\n",
       " ('The Shining', 146, 'Horror'),\n",
       " ('Spider-Man: Across The Spider-Verse', 140, 'Animation'),\n",
       " ('Warrior', 140, 'Sport'),\n",
       " ('Sunset Blvd.', 110, 'Film-Noir'),\n",
       " (\"Singin' In The Rain\", 103, 'Musical')]"
      ]
     },
     "execution_count": 19,
     "metadata": {},
     "output_type": "execute_result"
    }
   ],
   "source": [
    "%%sql sqlite:///../database/imdb.db\n",
    "SELECT title, max(screening), movie_category\n",
    "FROM (\n",
    "    SELECT m.*, c.category AS movie_category\n",
    "    FROM movies m\n",
    "    JOIN categories c ON ',' || m.category || ',' LIKE '%' || c.category || ',%'\n",
    ")\n",
    "GROUP BY movie_category\n",
    "ORDER BY max(screening) DESC"
   ]
  },
  {
   "cell_type": "code",
   "execution_count": 20,
   "metadata": {},
   "outputs": [],
   "source": [
    "# En fonction du genre, quel est le coût de tournage d’une minute de film ?"
   ]
  },
  {
   "cell_type": "code",
   "execution_count": 21,
   "metadata": {},
   "outputs": [
    {
     "name": "stdout",
     "output_type": "stream",
     "text": [
      "Done.\n"
     ]
    },
    {
     "data": {
      "text/html": [
       "<table>\n",
       "    <thead>\n",
       "        <tr>\n",
       "            <th>screening</th>\n",
       "            <th>mean_screen</th>\n",
       "            <th>movie_category</th>\n",
       "            <th>budget</th>\n",
       "            <th>mean_budget_for_one_minute</th>\n",
       "        </tr>\n",
       "    </thead>\n",
       "    <tbody>\n",
       "        <tr>\n",
       "            <td>140</td>\n",
       "            <td>104.0</td>\n",
       "            <td>Animation</td>\n",
       "            <td>150000000</td>\n",
       "            <td>861222.0</td>\n",
       "        </tr>\n",
       "        <tr>\n",
       "            <td>155</td>\n",
       "            <td>137.0</td>\n",
       "            <td>Action</td>\n",
       "            <td>103000000</td>\n",
       "            <td>631313.0</td>\n",
       "        </tr>\n",
       "        <tr>\n",
       "            <td>155</td>\n",
       "            <td>132.0</td>\n",
       "            <td>Adventure</td>\n",
       "            <td>103000000</td>\n",
       "            <td>585425.0</td>\n",
       "        </tr>\n",
       "        <tr>\n",
       "            <td>137</td>\n",
       "            <td>132.0</td>\n",
       "            <td>Sci-Fi</td>\n",
       "            <td>102000000</td>\n",
       "            <td>477498.0</td>\n",
       "        </tr>\n",
       "        <tr>\n",
       "            <td>189</td>\n",
       "            <td>124.0</td>\n",
       "            <td>Fantasy</td>\n",
       "            <td>60000000</td>\n",
       "            <td>363564.0</td>\n",
       "        </tr>\n",
       "        <tr>\n",
       "            <td>125</td>\n",
       "            <td>114.0</td>\n",
       "            <td>Family</td>\n",
       "            <td>19000000</td>\n",
       "            <td>304033.0</td>\n",
       "        </tr>\n",
       "        <tr>\n",
       "            <td>116</td>\n",
       "            <td>106.0</td>\n",
       "            <td>Comedy</td>\n",
       "            <td>20000000</td>\n",
       "            <td>297258.0</td>\n",
       "        </tr>\n",
       "        <tr>\n",
       "            <td>155</td>\n",
       "            <td>135.0</td>\n",
       "            <td>Drama</td>\n",
       "            <td>103000000</td>\n",
       "            <td>232611.0</td>\n",
       "        </tr>\n",
       "        <tr>\n",
       "            <td>132</td>\n",
       "            <td>125.0</td>\n",
       "            <td>Thriller</td>\n",
       "            <td>11400000</td>\n",
       "            <td>224872.0</td>\n",
       "        </tr>\n",
       "        <tr>\n",
       "            <td>189</td>\n",
       "            <td>131.0</td>\n",
       "            <td>Crime</td>\n",
       "            <td>60000000</td>\n",
       "            <td>195425.0</td>\n",
       "        </tr>\n",
       "        <tr>\n",
       "            <td>150</td>\n",
       "            <td>145.0</td>\n",
       "            <td>Biography</td>\n",
       "            <td>35000000</td>\n",
       "            <td>195327.0</td>\n",
       "        </tr>\n",
       "        <tr>\n",
       "            <td>114</td>\n",
       "            <td>143.0</td>\n",
       "            <td>History</td>\n",
       "            <td>None</td>\n",
       "            <td>159555.0</td>\n",
       "        </tr>\n",
       "        <tr>\n",
       "            <td>169</td>\n",
       "            <td>142.0</td>\n",
       "            <td>War</td>\n",
       "            <td>70000000</td>\n",
       "            <td>150938.0</td>\n",
       "        </tr>\n",
       "        <tr>\n",
       "            <td>109</td>\n",
       "            <td>124.0</td>\n",
       "            <td>Mystery</td>\n",
       "            <td>806947</td>\n",
       "            <td>149536.0</td>\n",
       "        </tr>\n",
       "        <tr>\n",
       "            <td>89</td>\n",
       "            <td>123.0</td>\n",
       "            <td>Sport</td>\n",
       "            <td>180000</td>\n",
       "            <td>149347.0</td>\n",
       "        </tr>\n",
       "        <tr>\n",
       "            <td>181</td>\n",
       "            <td>154.0</td>\n",
       "            <td>Western</td>\n",
       "            <td>22000000</td>\n",
       "            <td>135622.0</td>\n",
       "        </tr>\n",
       "        <tr>\n",
       "            <td>150</td>\n",
       "            <td>134.0</td>\n",
       "            <td>Music</td>\n",
       "            <td>35000000</td>\n",
       "            <td>110212.0</td>\n",
       "        </tr>\n",
       "        <tr>\n",
       "            <td>109</td>\n",
       "            <td>121.0</td>\n",
       "            <td>Horror</td>\n",
       "            <td>806947</td>\n",
       "            <td>94207.0</td>\n",
       "        </tr>\n",
       "        <tr>\n",
       "            <td>116</td>\n",
       "            <td>123.0</td>\n",
       "            <td>Romance</td>\n",
       "            <td>20000000</td>\n",
       "            <td>60876.0</td>\n",
       "        </tr>\n",
       "        <tr>\n",
       "            <td>103</td>\n",
       "            <td>103.0</td>\n",
       "            <td>Musical</td>\n",
       "            <td>2540800</td>\n",
       "            <td>24668.0</td>\n",
       "        </tr>\n",
       "        <tr>\n",
       "            <td>93</td>\n",
       "            <td>103.0</td>\n",
       "            <td>Film-Noir</td>\n",
       "            <td>None</td>\n",
       "            <td>12964.0</td>\n",
       "        </tr>\n",
       "    </tbody>\n",
       "</table>"
      ],
      "text/plain": [
       "[(140, 104.0, 'Animation', 150000000, 861222.0),\n",
       " (155, 137.0, 'Action', 103000000, 631313.0),\n",
       " (155, 132.0, 'Adventure', 103000000, 585425.0),\n",
       " (137, 132.0, 'Sci-Fi', 102000000, 477498.0),\n",
       " (189, 124.0, 'Fantasy', 60000000, 363564.0),\n",
       " (125, 114.0, 'Family', 19000000, 304033.0),\n",
       " (116, 106.0, 'Comedy', 20000000, 297258.0),\n",
       " (155, 135.0, 'Drama', 103000000, 232611.0),\n",
       " (132, 125.0, 'Thriller', 11400000, 224872.0),\n",
       " (189, 131.0, 'Crime', 60000000, 195425.0),\n",
       " (150, 145.0, 'Biography', 35000000, 195327.0),\n",
       " (114, 143.0, 'History', None, 159555.0),\n",
       " (169, 142.0, 'War', 70000000, 150938.0),\n",
       " (109, 124.0, 'Mystery', 806947, 149536.0),\n",
       " (89, 123.0, 'Sport', 180000, 149347.0),\n",
       " (181, 154.0, 'Western', 22000000, 135622.0),\n",
       " (150, 134.0, 'Music', 35000000, 110212.0),\n",
       " (109, 121.0, 'Horror', 806947, 94207.0),\n",
       " (116, 123.0, 'Romance', 20000000, 60876.0),\n",
       " (103, 103.0, 'Musical', 2540800, 24668.0),\n",
       " (93, 103.0, 'Film-Noir', None, 12964.0)]"
      ]
     },
     "execution_count": 21,
     "metadata": {},
     "output_type": "execute_result"
    }
   ],
   "source": [
    "%%sql sqlite:///../database/imdb.db\n",
    "SELECT screening, round(avg(screening)) AS mean_screen, movie_category, budget, round(avg(budget)/avg(screening)) AS mean_budget_for_one_minute\n",
    "FROM (\n",
    "    SELECT m.*, c.category AS movie_category\n",
    "    FROM movies m\n",
    "    JOIN categories c ON ',' || m.category || ',' LIKE '%' || c.category || ',%')\n",
    "GROUP BY movie_category\n",
    "ORDER BY mean_budget_for_one_minute DESC"
   ]
  },
  {
   "cell_type": "code",
   "execution_count": 22,
   "metadata": {},
   "outputs": [],
   "source": [
    "# Quelles sont les séries les mieux notées ?"
   ]
  },
  {
   "cell_type": "code",
   "execution_count": 23,
   "metadata": {},
   "outputs": [
    {
     "name": "stdout",
     "output_type": "stream",
     "text": [
      "Done.\n"
     ]
    },
    {
     "data": {
      "text/html": [
       "<table>\n",
       "    <thead>\n",
       "        <tr>\n",
       "            <th>title</th>\n",
       "            <th>mark</th>\n",
       "        </tr>\n",
       "    </thead>\n",
       "    <tbody>\n",
       "        <tr>\n",
       "            <td>Breaking Bad</td>\n",
       "            <td>9.5</td>\n",
       "        </tr>\n",
       "        <tr>\n",
       "            <td>Planet Earth II</td>\n",
       "            <td>9.5</td>\n",
       "        </tr>\n",
       "        <tr>\n",
       "            <td>Bluey</td>\n",
       "            <td>9.4</td>\n",
       "        </tr>\n",
       "        <tr>\n",
       "            <td>Band of Brothers</td>\n",
       "            <td>9.4</td>\n",
       "        </tr>\n",
       "        <tr>\n",
       "            <td>Planet Earth</td>\n",
       "            <td>9.4</td>\n",
       "        </tr>\n",
       "        <tr>\n",
       "            <td>Scam 1992: The Harshad Mehta Story</td>\n",
       "            <td>9.3</td>\n",
       "        </tr>\n",
       "        <tr>\n",
       "            <td>Our Planet</td>\n",
       "            <td>9.3</td>\n",
       "        </tr>\n",
       "        <tr>\n",
       "            <td>Cosmos</td>\n",
       "            <td>9.3</td>\n",
       "        </tr>\n",
       "        <tr>\n",
       "            <td>Cosmos: A Spacetime Odyssey</td>\n",
       "            <td>9.3</td>\n",
       "        </tr>\n",
       "        <tr>\n",
       "            <td>Avatar: The Last Airbender</td>\n",
       "            <td>9.3</td>\n",
       "        </tr>\n",
       "        <tr>\n",
       "            <td>The Wire</td>\n",
       "            <td>9.3</td>\n",
       "        </tr>\n",
       "        <tr>\n",
       "            <td>Blue Planet II</td>\n",
       "            <td>9.3</td>\n",
       "        </tr>\n",
       "        <tr>\n",
       "            <td>Chernobyl</td>\n",
       "            <td>9.3</td>\n",
       "        </tr>\n",
       "        <tr>\n",
       "            <td>Aspirants</td>\n",
       "            <td>9.2</td>\n",
       "        </tr>\n",
       "        <tr>\n",
       "            <td>Shōgun</td>\n",
       "            <td>9.2</td>\n",
       "        </tr>\n",
       "        <tr>\n",
       "            <td>The World at War</td>\n",
       "            <td>9.2</td>\n",
       "        </tr>\n",
       "        <tr>\n",
       "            <td>Game of Thrones</td>\n",
       "            <td>9.2</td>\n",
       "        </tr>\n",
       "        <tr>\n",
       "            <td>The Sopranos</td>\n",
       "            <td>9.2</td>\n",
       "        </tr>\n",
       "        <tr>\n",
       "            <td>Gullak</td>\n",
       "            <td>9.1</td>\n",
       "        </tr>\n",
       "        <tr>\n",
       "            <td>Reply 1988</td>\n",
       "            <td>9.1</td>\n",
       "        </tr>\n",
       "    </tbody>\n",
       "</table>"
      ],
      "text/plain": [
       "[('Breaking Bad', 9.5),\n",
       " ('Planet Earth II', 9.5),\n",
       " ('Bluey', 9.4),\n",
       " ('Band of Brothers', 9.4),\n",
       " ('Planet Earth', 9.4),\n",
       " ('Scam 1992: The Harshad Mehta Story', 9.3),\n",
       " ('Our Planet', 9.3),\n",
       " ('Cosmos', 9.3),\n",
       " ('Cosmos: A Spacetime Odyssey', 9.3),\n",
       " ('Avatar: The Last Airbender', 9.3),\n",
       " ('The Wire', 9.3),\n",
       " ('Blue Planet II', 9.3),\n",
       " ('Chernobyl', 9.3),\n",
       " ('Aspirants', 9.2),\n",
       " ('Shōgun', 9.2),\n",
       " ('The World at War', 9.2),\n",
       " ('Game of Thrones', 9.2),\n",
       " ('The Sopranos', 9.2),\n",
       " ('Gullak', 9.1),\n",
       " ('Reply 1988', 9.1)]"
      ]
     },
     "execution_count": 23,
     "metadata": {},
     "output_type": "execute_result"
    }
   ],
   "source": [
    "%%sql sqlite:///../database/imdb.db\n",
    "SELECT title, mark FROM series\n",
    "ORDER BY mark DESC\n",
    "LIMIT 20"
   ]
  },
  {
   "cell_type": "code",
   "execution_count": 24,
   "metadata": {},
   "outputs": [],
   "source": [
    "# En fonction du genre, afficher la liste des séries les plus longues."
   ]
  },
  {
   "cell_type": "code",
   "execution_count": 25,
   "metadata": {},
   "outputs": [
    {
     "name": "stdout",
     "output_type": "stream",
     "text": [
      "Done.\n"
     ]
    },
    {
     "data": {
      "text/html": [
       "<table>\n",
       "    <thead>\n",
       "        <tr>\n",
       "            <th>title</th>\n",
       "            <th>nb_seasons</th>\n",
       "            <th>nb_episodes</th>\n",
       "        </tr>\n",
       "    </thead>\n",
       "    <tbody>\n",
       "        <tr>\n",
       "            <td>The Simpsons</td>\n",
       "            <td>36</td>\n",
       "            <td>764</td>\n",
       "        </tr>\n",
       "        <tr>\n",
       "            <td>South Park</td>\n",
       "            <td>30</td>\n",
       "            <td>330</td>\n",
       "        </tr>\n",
       "        <tr>\n",
       "            <td>QI</td>\n",
       "            <td>21</td>\n",
       "            <td>334</td>\n",
       "        </tr>\n",
       "        <tr>\n",
       "            <td>It&#x27;s Always Sunny in Philadelphia</td>\n",
       "            <td>18</td>\n",
       "            <td>172</td>\n",
       "        </tr>\n",
       "        <tr>\n",
       "            <td>Taskmaster</td>\n",
       "            <td>17</td>\n",
       "            <td>161</td>\n",
       "        </tr>\n",
       "        <tr>\n",
       "            <td>Dragon Ball Z</td>\n",
       "            <td>16</td>\n",
       "            <td>277</td>\n",
       "        </tr>\n",
       "        <tr>\n",
       "            <td>Futurama</td>\n",
       "            <td>14</td>\n",
       "            <td>180</td>\n",
       "        </tr>\n",
       "        <tr>\n",
       "            <td>Archer</td>\n",
       "            <td>14</td>\n",
       "            <td>144</td>\n",
       "        </tr>\n",
       "        <tr>\n",
       "            <td>Doctor Who</td>\n",
       "            <td>13</td>\n",
       "            <td>175</td>\n",
       "        </tr>\n",
       "        <tr>\n",
       "            <td>Poirot</td>\n",
       "            <td>13</td>\n",
       "            <td>70</td>\n",
       "        </tr>\n",
       "    </tbody>\n",
       "</table>"
      ],
      "text/plain": [
       "[('The Simpsons', 36, 764),\n",
       " ('South Park', 30, 330),\n",
       " ('QI', 21, 334),\n",
       " (\"It's Always Sunny in Philadelphia\", 18, 172),\n",
       " ('Taskmaster', 17, 161),\n",
       " ('Dragon Ball Z', 16, 277),\n",
       " ('Futurama', 14, 180),\n",
       " ('Archer', 14, 144),\n",
       " ('Doctor Who', 13, 175),\n",
       " ('Poirot', 13, 70)]"
      ]
     },
     "execution_count": 25,
     "metadata": {},
     "output_type": "execute_result"
    }
   ],
   "source": [
    "%%sql sqlite:///../database/imdb.db\n",
    "SELECT title, nb_seasons, nb_episodes FROM series\n",
    "ORDER BY nb_seasons DESC\n",
    "LIMIT 10"
   ]
  },
  {
   "cell_type": "code",
   "execution_count": 26,
   "metadata": {},
   "outputs": [
    {
     "name": "stdout",
     "output_type": "stream",
     "text": [
      "Done.\n"
     ]
    },
    {
     "data": {
      "text/html": [
       "<table>\n",
       "    <thead>\n",
       "        <tr>\n",
       "            <th>title</th>\n",
       "            <th>nb_seasons</th>\n",
       "            <th>nb_episodes</th>\n",
       "        </tr>\n",
       "    </thead>\n",
       "    <tbody>\n",
       "        <tr>\n",
       "            <td>One Piece</td>\n",
       "            <td>None</td>\n",
       "            <td>1108</td>\n",
       "        </tr>\n",
       "        <tr>\n",
       "            <td>The Simpsons</td>\n",
       "            <td>36</td>\n",
       "            <td>764</td>\n",
       "        </tr>\n",
       "        <tr>\n",
       "            <td>Naruto: Shippuden</td>\n",
       "            <td>None</td>\n",
       "            <td>501</td>\n",
       "        </tr>\n",
       "        <tr>\n",
       "            <td>Gintama</td>\n",
       "            <td>8</td>\n",
       "            <td>375</td>\n",
       "        </tr>\n",
       "        <tr>\n",
       "            <td>El Chavo del Ocho</td>\n",
       "            <td>8</td>\n",
       "            <td>357</td>\n",
       "        </tr>\n",
       "        <tr>\n",
       "            <td>Last Week Tonight with John Oliver</td>\n",
       "            <td>11</td>\n",
       "            <td>346</td>\n",
       "        </tr>\n",
       "        <tr>\n",
       "            <td>QI</td>\n",
       "            <td>21</td>\n",
       "            <td>334</td>\n",
       "        </tr>\n",
       "        <tr>\n",
       "            <td>South Park</td>\n",
       "            <td>30</td>\n",
       "            <td>330</td>\n",
       "        </tr>\n",
       "        <tr>\n",
       "            <td>Dragon Ball Z</td>\n",
       "            <td>None</td>\n",
       "            <td>291</td>\n",
       "        </tr>\n",
       "        <tr>\n",
       "            <td>Adventure Time</td>\n",
       "            <td>10</td>\n",
       "            <td>289</td>\n",
       "        </tr>\n",
       "    </tbody>\n",
       "</table>"
      ],
      "text/plain": [
       "[('One Piece', None, 1108),\n",
       " ('The Simpsons', 36, 764),\n",
       " ('Naruto: Shippuden', None, 501),\n",
       " ('Gintama', 8, 375),\n",
       " ('El Chavo del Ocho', 8, 357),\n",
       " ('Last Week Tonight with John Oliver', 11, 346),\n",
       " ('QI', 21, 334),\n",
       " ('South Park', 30, 330),\n",
       " ('Dragon Ball Z', None, 291),\n",
       " ('Adventure Time', 10, 289)]"
      ]
     },
     "execution_count": 26,
     "metadata": {},
     "output_type": "execute_result"
    }
   ],
   "source": [
    "%%sql sqlite:///../database/imdb.db\n",
    "SELECT title, nb_seasons, nb_episodes FROM series\n",
    "ORDER BY nb_episodes DESC\n",
    "LIMIT 10"
   ]
  }
 ],
 "metadata": {
  "kernelspec": {
   "display_name": "Python 3 (ipykernel)",
   "language": "python",
   "name": "python3"
  },
  "language_info": {
   "codemirror_mode": {
    "name": "ipython",
    "version": 3
   },
   "file_extension": ".py",
   "mimetype": "text/x-python",
   "name": "python",
   "nbconvert_exporter": "python",
   "pygments_lexer": "ipython3",
   "version": "3.9.13"
  }
 },
 "nbformat": 4,
 "nbformat_minor": 4
}
