{
 "cells": [
  {
   "cell_type": "code",
   "execution_count": 1,
   "metadata": {},
   "outputs": [],
   "source": [
    "%load_ext sql"
   ]
  },
  {
   "cell_type": "code",
   "execution_count": 2,
   "metadata": {},
   "outputs": [],
   "source": [
    "# Quel est le film le plus long ? "
   ]
  },
  {
   "cell_type": "code",
   "execution_count": 3,
   "metadata": {},
   "outputs": [
    {
     "name": "stdout",
     "output_type": "stream",
     "text": [
      "Done.\n"
     ]
    },
    {
     "data": {
      "text/html": [
       "<table>\n",
       "    <thead>\n",
       "        <tr>\n",
       "            <th>title</th>\n",
       "            <th>movie_length_in_minutes</th>\n",
       "        </tr>\n",
       "    </thead>\n",
       "    <tbody>\n",
       "        <tr>\n",
       "            <td>Gangs Of Wasseypur</td>\n",
       "            <td>321</td>\n",
       "        </tr>\n",
       "    </tbody>\n",
       "</table>"
      ],
      "text/plain": [
       "[('Gangs Of Wasseypur', 321)]"
      ]
     },
     "execution_count": 3,
     "metadata": {},
     "output_type": "execute_result"
    }
   ],
   "source": [
    "%%sql sqlite:///../database/imdb.db\n",
    "SELECT title, screening as movie_length_in_minutes FROM movies\n",
    "ORDER BY screening DESC\n",
    "LIMIT 1"
   ]
  },
  {
   "cell_type": "code",
   "execution_count": 4,
   "metadata": {},
   "outputs": [],
   "source": [
    "# Quels sont les 5 films les mieux notés ?"
   ]
  },
  {
   "cell_type": "code",
   "execution_count": 5,
   "metadata": {},
   "outputs": [
    {
     "name": "stdout",
     "output_type": "stream",
     "text": [
      "Done.\n"
     ]
    },
    {
     "data": {
      "text/html": [
       "<table>\n",
       "    <thead>\n",
       "        <tr>\n",
       "            <th>title</th>\n",
       "            <th>mark</th>\n",
       "        </tr>\n",
       "    </thead>\n",
       "    <tbody>\n",
       "        <tr>\n",
       "            <td>The Shawshank Redemption</td>\n",
       "            <td>9.3</td>\n",
       "        </tr>\n",
       "        <tr>\n",
       "            <td>The Godfather</td>\n",
       "            <td>9.2</td>\n",
       "        </tr>\n",
       "        <tr>\n",
       "            <td>12Th Fail</td>\n",
       "            <td>9.0</td>\n",
       "        </tr>\n",
       "        <tr>\n",
       "            <td>The Lord Of The Rings: The Return Of The King</td>\n",
       "            <td>9.0</td>\n",
       "        </tr>\n",
       "        <tr>\n",
       "            <td>Schindler&#x27;S List</td>\n",
       "            <td>9.0</td>\n",
       "        </tr>\n",
       "    </tbody>\n",
       "</table>"
      ],
      "text/plain": [
       "[('The Shawshank Redemption', 9.3),\n",
       " ('The Godfather', 9.2),\n",
       " ('12Th Fail', 9.0),\n",
       " ('The Lord Of The Rings: The Return Of The King', 9.0),\n",
       " (\"Schindler'S List\", 9.0)]"
      ]
     },
     "execution_count": 5,
     "metadata": {},
     "output_type": "execute_result"
    }
   ],
   "source": [
    "%%sql sqlite:///../database/imdb.db\n",
    "SELECT title, mark FROM movies\n",
    "ORDER BY mark DESC\n",
    "LIMIT 5"
   ]
  },
  {
   "cell_type": "code",
   "execution_count": 6,
   "metadata": {},
   "outputs": [],
   "source": [
    "# Dans combien de films a joué Morgan Freeman ? Tom Cruise ?"
   ]
  },
  {
   "cell_type": "code",
   "execution_count": 7,
   "metadata": {},
   "outputs": [
    {
     "name": "stdout",
     "output_type": "stream",
     "text": [
      "Done.\n"
     ]
    },
    {
     "data": {
      "text/html": [
       "<table>\n",
       "    <thead>\n",
       "        <tr>\n",
       "            <th>morgan_freeman_nb_of_films</th>\n",
       "        </tr>\n",
       "    </thead>\n",
       "    <tbody>\n",
       "        <tr>\n",
       "            <td>7</td>\n",
       "        </tr>\n",
       "    </tbody>\n",
       "</table>"
      ],
      "text/plain": [
       "[(7,)]"
      ]
     },
     "execution_count": 7,
     "metadata": {},
     "output_type": "execute_result"
    }
   ],
   "source": [
    "%%sql sqlite:///../database/imdb.db\n",
    "SELECT count(casting) as morgan_freeman_nb_of_films\n",
    "FROM movies\n",
    "WHERE casting LIKE '%Morgan Freeman%'"
   ]
  },
  {
   "cell_type": "code",
   "execution_count": 8,
   "metadata": {},
   "outputs": [
    {
     "name": "stdout",
     "output_type": "stream",
     "text": [
      "Done.\n"
     ]
    },
    {
     "data": {
      "text/html": [
       "<table>\n",
       "    <thead>\n",
       "        <tr>\n",
       "            <th>tom_cruise_nb_of_films</th>\n",
       "        </tr>\n",
       "    </thead>\n",
       "    <tbody>\n",
       "        <tr>\n",
       "            <td>1</td>\n",
       "        </tr>\n",
       "    </tbody>\n",
       "</table>"
      ],
      "text/plain": [
       "[(1,)]"
      ]
     },
     "execution_count": 8,
     "metadata": {},
     "output_type": "execute_result"
    }
   ],
   "source": [
    "%%sql sqlite:///../database/imdb.db\n",
    "SELECT count(casting) as tom_cruise_nb_of_films FROM movies\n",
    "WHERE casting LIKE '%Tom Cruise%'"
   ]
  },
  {
   "cell_type": "code",
   "execution_count": 9,
   "metadata": {},
   "outputs": [],
   "source": [
    "# Quels sont les 3 meilleurs films d’horreur ? Dramatique ? Comique ?"
   ]
  },
  {
   "cell_type": "code",
   "execution_count": 10,
   "metadata": {},
   "outputs": [
    {
     "name": "stdout",
     "output_type": "stream",
     "text": [
      "Done.\n"
     ]
    },
    {
     "data": {
      "text/html": [
       "<table>\n",
       "    <thead>\n",
       "        <tr>\n",
       "            <th>top3_horror_movies</th>\n",
       "            <th>mark</th>\n",
       "        </tr>\n",
       "    </thead>\n",
       "    <tbody>\n",
       "        <tr>\n",
       "            <td>Alien</td>\n",
       "            <td>8.5</td>\n",
       "        </tr>\n",
       "        <tr>\n",
       "            <td>Psycho</td>\n",
       "            <td>8.5</td>\n",
       "        </tr>\n",
       "        <tr>\n",
       "            <td>The Shining</td>\n",
       "            <td>8.4</td>\n",
       "        </tr>\n",
       "    </tbody>\n",
       "</table>"
      ],
      "text/plain": [
       "[('Alien', 8.5), ('Psycho', 8.5), ('The Shining', 8.4)]"
      ]
     },
     "execution_count": 10,
     "metadata": {},
     "output_type": "execute_result"
    }
   ],
   "source": [
    "%%sql sqlite:///../database/imdb.db\n",
    "SELECT title as top3_horror_movies, mark FROM movies\n",
    "WHERE category LIKE '%Horror%'\n",
    "ORDER BY mark DESC\n",
    "LIMIT 3"
   ]
  },
  {
   "cell_type": "code",
   "execution_count": 11,
   "metadata": {},
   "outputs": [
    {
     "name": "stdout",
     "output_type": "stream",
     "text": [
      "Done.\n"
     ]
    },
    {
     "data": {
      "text/html": [
       "<table>\n",
       "    <thead>\n",
       "        <tr>\n",
       "            <th>top3_drama_movies</th>\n",
       "            <th>mark</th>\n",
       "        </tr>\n",
       "    </thead>\n",
       "    <tbody>\n",
       "        <tr>\n",
       "            <td>The Shawshank Redemption</td>\n",
       "            <td>9.3</td>\n",
       "        </tr>\n",
       "        <tr>\n",
       "            <td>The Godfather</td>\n",
       "            <td>9.2</td>\n",
       "        </tr>\n",
       "        <tr>\n",
       "            <td>12Th Fail</td>\n",
       "            <td>9.0</td>\n",
       "        </tr>\n",
       "    </tbody>\n",
       "</table>"
      ],
      "text/plain": [
       "[('The Shawshank Redemption', 9.3), ('The Godfather', 9.2), ('12Th Fail', 9.0)]"
      ]
     },
     "execution_count": 11,
     "metadata": {},
     "output_type": "execute_result"
    }
   ],
   "source": [
    "%%sql sqlite:///../database/imdb.db\n",
    "SELECT title as top3_drama_movies, mark FROM movies\n",
    "WHERE category LIKE '%Drama%'\n",
    "ORDER BY mark DESC\n",
    "LIMIT 3"
   ]
  },
  {
   "cell_type": "code",
   "execution_count": 12,
   "metadata": {},
   "outputs": [
    {
     "name": "stdout",
     "output_type": "stream",
     "text": [
      "Done.\n"
     ]
    },
    {
     "data": {
      "text/html": [
       "<table>\n",
       "    <thead>\n",
       "        <tr>\n",
       "            <th>top3_comedy_movies</th>\n",
       "            <th>mark</th>\n",
       "        </tr>\n",
       "    </thead>\n",
       "    <tbody>\n",
       "        <tr>\n",
       "            <td>Life Is Beautiful</td>\n",
       "            <td>8.6</td>\n",
       "        </tr>\n",
       "        <tr>\n",
       "            <td>City Lights</td>\n",
       "            <td>8.5</td>\n",
       "        </tr>\n",
       "        <tr>\n",
       "            <td>Modern Times</td>\n",
       "            <td>8.5</td>\n",
       "        </tr>\n",
       "    </tbody>\n",
       "</table>"
      ],
      "text/plain": [
       "[('Life Is Beautiful', 8.6), ('City Lights', 8.5), ('Modern Times', 8.5)]"
      ]
     },
     "execution_count": 12,
     "metadata": {},
     "output_type": "execute_result"
    }
   ],
   "source": [
    "%%sql sqlite:///../database/imdb.db\n",
    "SELECT title as top3_comedy_movies, mark FROM movies\n",
    "WHERE category LIKE '%Comedy%'\n",
    "ORDER BY mark DESC\n",
    "LIMIT 3"
   ]
  },
  {
   "cell_type": "code",
   "execution_count": 13,
   "metadata": {},
   "outputs": [],
   "source": [
    "# Parmi les 100 films les mieux notés, quel pourcentage sont américains ? Français ?"
   ]
  },
  {
   "cell_type": "code",
   "execution_count": 14,
   "metadata": {},
   "outputs": [
    {
     "name": "stdout",
     "output_type": "stream",
     "text": [
      "Done.\n"
     ]
    },
    {
     "data": {
      "text/html": [
       "<table>\n",
       "    <thead>\n",
       "        <tr>\n",
       "            <th>total_of_films</th>\n",
       "            <th>country</th>\n",
       "        </tr>\n",
       "    </thead>\n",
       "    <tbody>\n",
       "        <tr>\n",
       "            <td>184</td>\n",
       "            <td>United States</td>\n",
       "        </tr>\n",
       "    </tbody>\n",
       "</table>"
      ],
      "text/plain": [
       "[(184, 'United States')]"
      ]
     },
     "execution_count": 14,
     "metadata": {},
     "output_type": "execute_result"
    }
   ],
   "source": [
    "%%sql sqlite:///../database/imdb.db\n",
    "SELECT count(title) as total_of_films, [country:1] as country\n",
    "FROM\n",
    "    (SELECT *\n",
    "    FROM movies m\n",
    "    JOIN countries c ON ',' || m.country || ',' LIKE '%' || c.country || '%,')\n",
    "WHERE [country:1] LIKE '%United States%'"
   ]
  },
  {
   "cell_type": "code",
   "execution_count": 15,
   "metadata": {},
   "outputs": [
    {
     "name": "stdout",
     "output_type": "stream",
     "text": [
      "Done.\n"
     ]
    },
    {
     "data": {
      "text/html": [
       "<table>\n",
       "    <thead>\n",
       "        <tr>\n",
       "            <th>total_of_films</th>\n",
       "            <th>country</th>\n",
       "        </tr>\n",
       "    </thead>\n",
       "    <tbody>\n",
       "        <tr>\n",
       "            <td>22</td>\n",
       "            <td>France</td>\n",
       "        </tr>\n",
       "    </tbody>\n",
       "</table>"
      ],
      "text/plain": [
       "[(22, 'France')]"
      ]
     },
     "execution_count": 15,
     "metadata": {},
     "output_type": "execute_result"
    }
   ],
   "source": [
    "%%sql sqlite:///../database/imdb.db\n",
    "SELECT count(title) as total_of_films, [country:1] as country\n",
    "FROM\n",
    "    (SELECT *\n",
    "    FROM movies m\n",
    "    JOIN countries c ON ',' || m.country || ',' LIKE '%' || c.country || '%,')\n",
    "WHERE [country:1] LIKE '%France%'"
   ]
  },
  {
   "cell_type": "code",
   "execution_count": 16,
   "metadata": {},
   "outputs": [],
   "source": [
    "# Quel est la durée moyenne d’un film en fonction du genre ?"
   ]
  },
  {
   "cell_type": "code",
   "execution_count": 17,
   "metadata": {},
   "outputs": [
    {
     "name": "stdout",
     "output_type": "stream",
     "text": [
      "Done.\n"
     ]
    },
    {
     "data": {
      "text/html": [
       "<table>\n",
       "    <thead>\n",
       "        <tr>\n",
       "            <th>movie_category</th>\n",
       "            <th>movie_length_in_minutes_mean</th>\n",
       "        </tr>\n",
       "    </thead>\n",
       "    <tbody>\n",
       "        <tr>\n",
       "            <td>Action</td>\n",
       "            <td>141.0</td>\n",
       "        </tr>\n",
       "        <tr>\n",
       "            <td>Adventure</td>\n",
       "            <td>131.0</td>\n",
       "        </tr>\n",
       "        <tr>\n",
       "            <td>Animation</td>\n",
       "            <td>103.0</td>\n",
       "        </tr>\n",
       "        <tr>\n",
       "            <td>Biography</td>\n",
       "            <td>145.0</td>\n",
       "        </tr>\n",
       "        <tr>\n",
       "            <td>Comedy</td>\n",
       "            <td>111.0</td>\n",
       "        </tr>\n",
       "        <tr>\n",
       "            <td>Crime</td>\n",
       "            <td>135.0</td>\n",
       "        </tr>\n",
       "        <tr>\n",
       "            <td>Drama</td>\n",
       "            <td>135.0</td>\n",
       "        </tr>\n",
       "        <tr>\n",
       "            <td>Family</td>\n",
       "            <td>114.0</td>\n",
       "        </tr>\n",
       "        <tr>\n",
       "            <td>Fantasy</td>\n",
       "            <td>124.0</td>\n",
       "        </tr>\n",
       "        <tr>\n",
       "            <td>Film-Noir</td>\n",
       "            <td>103.0</td>\n",
       "        </tr>\n",
       "        <tr>\n",
       "            <td>History</td>\n",
       "            <td>143.0</td>\n",
       "        </tr>\n",
       "        <tr>\n",
       "            <td>Horror</td>\n",
       "            <td>121.0</td>\n",
       "        </tr>\n",
       "        <tr>\n",
       "            <td>Music</td>\n",
       "            <td>134.0</td>\n",
       "        </tr>\n",
       "        <tr>\n",
       "            <td>Musical</td>\n",
       "            <td>103.0</td>\n",
       "        </tr>\n",
       "        <tr>\n",
       "            <td>Mystery</td>\n",
       "            <td>124.0</td>\n",
       "        </tr>\n",
       "        <tr>\n",
       "            <td>Romance</td>\n",
       "            <td>123.0</td>\n",
       "        </tr>\n",
       "        <tr>\n",
       "            <td>Sci-Fi</td>\n",
       "            <td>132.0</td>\n",
       "        </tr>\n",
       "        <tr>\n",
       "            <td>Sport</td>\n",
       "            <td>123.0</td>\n",
       "        </tr>\n",
       "        <tr>\n",
       "            <td>Thriller</td>\n",
       "            <td>125.0</td>\n",
       "        </tr>\n",
       "        <tr>\n",
       "            <td>War</td>\n",
       "            <td>142.0</td>\n",
       "        </tr>\n",
       "        <tr>\n",
       "            <td>Western</td>\n",
       "            <td>154.0</td>\n",
       "        </tr>\n",
       "    </tbody>\n",
       "</table>"
      ],
      "text/plain": [
       "[('Action', 141.0),\n",
       " ('Adventure', 131.0),\n",
       " ('Animation', 103.0),\n",
       " ('Biography', 145.0),\n",
       " ('Comedy', 111.0),\n",
       " ('Crime', 135.0),\n",
       " ('Drama', 135.0),\n",
       " ('Family', 114.0),\n",
       " ('Fantasy', 124.0),\n",
       " ('Film-Noir', 103.0),\n",
       " ('History', 143.0),\n",
       " ('Horror', 121.0),\n",
       " ('Music', 134.0),\n",
       " ('Musical', 103.0),\n",
       " ('Mystery', 124.0),\n",
       " ('Romance', 123.0),\n",
       " ('Sci-Fi', 132.0),\n",
       " ('Sport', 123.0),\n",
       " ('Thriller', 125.0),\n",
       " ('War', 142.0),\n",
       " ('Western', 154.0)]"
      ]
     },
     "execution_count": 17,
     "metadata": {},
     "output_type": "execute_result"
    }
   ],
   "source": [
    "%%sql sqlite:///../database/imdb.db\n",
    "SELECT movie_category, round(avg(screening)) as movie_length_in_minutes_mean\n",
    "FROM (\n",
    "    SELECT m.*, c.category AS movie_category\n",
    "    FROM movies m\n",
    "    JOIN categories c ON ',' || m.category || ',' LIKE '%' || c.category || ',%')\n",
    "GROUP BY movie_category"
   ]
  },
  {
   "cell_type": "code",
   "execution_count": 18,
   "metadata": {},
   "outputs": [],
   "source": [
    "# En fonction du genre, afficher la liste des films les plus longs."
   ]
  },
  {
   "cell_type": "code",
   "execution_count": 19,
   "metadata": {},
   "outputs": [
    {
     "name": "stdout",
     "output_type": "stream",
     "text": [
      "Done.\n"
     ]
    },
    {
     "data": {
      "text/html": [
       "<table>\n",
       "    <thead>\n",
       "        <tr>\n",
       "            <th>title</th>\n",
       "            <th>max_movie_length_in_minutes</th>\n",
       "            <th>movie_category</th>\n",
       "        </tr>\n",
       "    </thead>\n",
       "    <tbody>\n",
       "        <tr>\n",
       "            <td>Gangs Of Wasseypur</td>\n",
       "            <td>321</td>\n",
       "            <td>Action</td>\n",
       "        </tr>\n",
       "        <tr>\n",
       "            <td>Gangs Of Wasseypur</td>\n",
       "            <td>321</td>\n",
       "            <td>Comedy</td>\n",
       "        </tr>\n",
       "        <tr>\n",
       "            <td>Gangs Of Wasseypur</td>\n",
       "            <td>321</td>\n",
       "            <td>Crime</td>\n",
       "        </tr>\n",
       "        <tr>\n",
       "            <td>Gone With The Wind</td>\n",
       "            <td>238</td>\n",
       "            <td>Drama</td>\n",
       "        </tr>\n",
       "        <tr>\n",
       "            <td>Gone With The Wind</td>\n",
       "            <td>238</td>\n",
       "            <td>Romance</td>\n",
       "        </tr>\n",
       "        <tr>\n",
       "            <td>Gone With The Wind</td>\n",
       "            <td>238</td>\n",
       "            <td>War</td>\n",
       "        </tr>\n",
       "        <tr>\n",
       "            <td>Lawrence Of Arabia</td>\n",
       "            <td>218</td>\n",
       "            <td>Adventure</td>\n",
       "        </tr>\n",
       "        <tr>\n",
       "            <td>Lawrence Of Arabia</td>\n",
       "            <td>218</td>\n",
       "            <td>Biography</td>\n",
       "        </tr>\n",
       "        <tr>\n",
       "            <td>Schindler&#x27;S List</td>\n",
       "            <td>195</td>\n",
       "            <td>History</td>\n",
       "        </tr>\n",
       "        <tr>\n",
       "            <td>The Green Mile</td>\n",
       "            <td>189</td>\n",
       "            <td>Fantasy</td>\n",
       "        </tr>\n",
       "        <tr>\n",
       "            <td>Dances With Wolves</td>\n",
       "            <td>181</td>\n",
       "            <td>Western</td>\n",
       "        </tr>\n",
       "        <tr>\n",
       "            <td>The Sound Of Music</td>\n",
       "            <td>172</td>\n",
       "            <td>Family</td>\n",
       "        </tr>\n",
       "        <tr>\n",
       "            <td>The Great Escape</td>\n",
       "            <td>172</td>\n",
       "            <td>Thriller</td>\n",
       "        </tr>\n",
       "        <tr>\n",
       "            <td>Interstellar</td>\n",
       "            <td>169</td>\n",
       "            <td>Sci-Fi</td>\n",
       "        </tr>\n",
       "        <tr>\n",
       "            <td>Amadeus</td>\n",
       "            <td>160</td>\n",
       "            <td>Music</td>\n",
       "        </tr>\n",
       "        <tr>\n",
       "            <td>Prisoners</td>\n",
       "            <td>153</td>\n",
       "            <td>Mystery</td>\n",
       "        </tr>\n",
       "        <tr>\n",
       "            <td>The Shining</td>\n",
       "            <td>146</td>\n",
       "            <td>Horror</td>\n",
       "        </tr>\n",
       "        <tr>\n",
       "            <td>Spider-Man: Across The Spider-Verse</td>\n",
       "            <td>140</td>\n",
       "            <td>Animation</td>\n",
       "        </tr>\n",
       "        <tr>\n",
       "            <td>Warrior</td>\n",
       "            <td>140</td>\n",
       "            <td>Sport</td>\n",
       "        </tr>\n",
       "        <tr>\n",
       "            <td>Sunset Blvd.</td>\n",
       "            <td>110</td>\n",
       "            <td>Film-Noir</td>\n",
       "        </tr>\n",
       "        <tr>\n",
       "            <td>Singin&#x27; In The Rain</td>\n",
       "            <td>103</td>\n",
       "            <td>Musical</td>\n",
       "        </tr>\n",
       "    </tbody>\n",
       "</table>"
      ],
      "text/plain": [
       "[('Gangs Of Wasseypur', 321, 'Action'),\n",
       " ('Gangs Of Wasseypur', 321, 'Comedy'),\n",
       " ('Gangs Of Wasseypur', 321, 'Crime'),\n",
       " ('Gone With The Wind', 238, 'Drama'),\n",
       " ('Gone With The Wind', 238, 'Romance'),\n",
       " ('Gone With The Wind', 238, 'War'),\n",
       " ('Lawrence Of Arabia', 218, 'Adventure'),\n",
       " ('Lawrence Of Arabia', 218, 'Biography'),\n",
       " (\"Schindler'S List\", 195, 'History'),\n",
       " ('The Green Mile', 189, 'Fantasy'),\n",
       " ('Dances With Wolves', 181, 'Western'),\n",
       " ('The Sound Of Music', 172, 'Family'),\n",
       " ('The Great Escape', 172, 'Thriller'),\n",
       " ('Interstellar', 169, 'Sci-Fi'),\n",
       " ('Amadeus', 160, 'Music'),\n",
       " ('Prisoners', 153, 'Mystery'),\n",
       " ('The Shining', 146, 'Horror'),\n",
       " ('Spider-Man: Across The Spider-Verse', 140, 'Animation'),\n",
       " ('Warrior', 140, 'Sport'),\n",
       " ('Sunset Blvd.', 110, 'Film-Noir'),\n",
       " (\"Singin' In The Rain\", 103, 'Musical')]"
      ]
     },
     "execution_count": 19,
     "metadata": {},
     "output_type": "execute_result"
    }
   ],
   "source": [
    "%%sql sqlite:///../database/imdb.db\n",
    "SELECT title, max(screening) as max_movie_length_in_minutes, movie_category\n",
    "FROM (\n",
    "    SELECT m.*, c.category AS movie_category\n",
    "    FROM movies m\n",
    "    JOIN categories c ON ',' || m.category || ',' LIKE '%' || c.category || ',%'\n",
    ")\n",
    "GROUP BY movie_category\n",
    "ORDER BY max(screening) DESC"
   ]
  },
  {
   "cell_type": "code",
   "execution_count": 20,
   "metadata": {},
   "outputs": [],
   "source": [
    "# En fonction du genre, quel est le coût de tournage d’une minute de film ?"
   ]
  },
  {
   "cell_type": "code",
   "execution_count": 21,
   "metadata": {},
   "outputs": [
    {
     "name": "stdout",
     "output_type": "stream",
     "text": [
      "Done.\n"
     ]
    },
    {
     "data": {
      "text/html": [
       "<table>\n",
       "    <thead>\n",
       "        <tr>\n",
       "            <th>movie_length</th>\n",
       "            <th>movie_length_mean</th>\n",
       "            <th>movie_category</th>\n",
       "            <th>budget</th>\n",
       "            <th>mean_budget_for_one_minute</th>\n",
       "        </tr>\n",
       "    </thead>\n",
       "    <tbody>\n",
       "        <tr>\n",
       "            <td>90</td>\n",
       "            <td>103.0</td>\n",
       "            <td>Animation</td>\n",
       "            <td>28000000</td>\n",
       "            <td>848784.0</td>\n",
       "        </tr>\n",
       "        <tr>\n",
       "            <td>207</td>\n",
       "            <td>141.0</td>\n",
       "            <td>Action</td>\n",
       "            <td>833333</td>\n",
       "            <td>593090.0</td>\n",
       "        </tr>\n",
       "        <tr>\n",
       "            <td>169</td>\n",
       "            <td>131.0</td>\n",
       "            <td>Adventure</td>\n",
       "            <td>165000000</td>\n",
       "            <td>575353.0</td>\n",
       "        </tr>\n",
       "        <tr>\n",
       "            <td>169</td>\n",
       "            <td>132.0</td>\n",
       "            <td>Sci-Fi</td>\n",
       "            <td>165000000</td>\n",
       "            <td>477498.0</td>\n",
       "        </tr>\n",
       "        <tr>\n",
       "            <td>130</td>\n",
       "            <td>124.0</td>\n",
       "            <td>Fantasy</td>\n",
       "            <td>3180000</td>\n",
       "            <td>363564.0</td>\n",
       "        </tr>\n",
       "        <tr>\n",
       "            <td>130</td>\n",
       "            <td>114.0</td>\n",
       "            <td>Family</td>\n",
       "            <td>3180000</td>\n",
       "            <td>304033.0</td>\n",
       "        </tr>\n",
       "        <tr>\n",
       "            <td>321</td>\n",
       "            <td>111.0</td>\n",
       "            <td>Comedy</td>\n",
       "            <td>2208000</td>\n",
       "            <td>277072.0</td>\n",
       "        </tr>\n",
       "        <tr>\n",
       "            <td>169</td>\n",
       "            <td>135.0</td>\n",
       "            <td>Drama</td>\n",
       "            <td>165000000</td>\n",
       "            <td>229483.0</td>\n",
       "        </tr>\n",
       "        <tr>\n",
       "            <td>118</td>\n",
       "            <td>125.0</td>\n",
       "            <td>Thriller</td>\n",
       "            <td>19000000</td>\n",
       "            <td>224872.0</td>\n",
       "        </tr>\n",
       "        <tr>\n",
       "            <td>145</td>\n",
       "            <td>145.0</td>\n",
       "            <td>Biography</td>\n",
       "            <td>25000000</td>\n",
       "            <td>195327.0</td>\n",
       "        </tr>\n",
       "        <tr>\n",
       "            <td>145</td>\n",
       "            <td>135.0</td>\n",
       "            <td>Crime</td>\n",
       "            <td>25000000</td>\n",
       "            <td>186103.0</td>\n",
       "        </tr>\n",
       "        <tr>\n",
       "            <td>114</td>\n",
       "            <td>143.0</td>\n",
       "            <td>History</td>\n",
       "            <td>None</td>\n",
       "            <td>159555.0</td>\n",
       "        </tr>\n",
       "        <tr>\n",
       "            <td>99</td>\n",
       "            <td>142.0</td>\n",
       "            <td>War</td>\n",
       "            <td>None</td>\n",
       "            <td>150938.0</td>\n",
       "        </tr>\n",
       "        <tr>\n",
       "            <td>127</td>\n",
       "            <td>124.0</td>\n",
       "            <td>Mystery</td>\n",
       "            <td>33000000</td>\n",
       "            <td>149536.0</td>\n",
       "        </tr>\n",
       "        <tr>\n",
       "            <td>89</td>\n",
       "            <td>123.0</td>\n",
       "            <td>Sport</td>\n",
       "            <td>180000</td>\n",
       "            <td>149347.0</td>\n",
       "        </tr>\n",
       "        <tr>\n",
       "            <td>178</td>\n",
       "            <td>154.0</td>\n",
       "            <td>Western</td>\n",
       "            <td>1200000</td>\n",
       "            <td>135622.0</td>\n",
       "        </tr>\n",
       "        <tr>\n",
       "            <td>121</td>\n",
       "            <td>134.0</td>\n",
       "            <td>Music</td>\n",
       "            <td>2883848</td>\n",
       "            <td>110212.0</td>\n",
       "        </tr>\n",
       "        <tr>\n",
       "            <td>122</td>\n",
       "            <td>121.0</td>\n",
       "            <td>Horror</td>\n",
       "            <td>11000000</td>\n",
       "            <td>94207.0</td>\n",
       "        </tr>\n",
       "        <tr>\n",
       "            <td>142</td>\n",
       "            <td>123.0</td>\n",
       "            <td>Romance</td>\n",
       "            <td>55000000</td>\n",
       "            <td>60876.0</td>\n",
       "        </tr>\n",
       "        <tr>\n",
       "            <td>103</td>\n",
       "            <td>103.0</td>\n",
       "            <td>Musical</td>\n",
       "            <td>2540800</td>\n",
       "            <td>24668.0</td>\n",
       "        </tr>\n",
       "        <tr>\n",
       "            <td>93</td>\n",
       "            <td>103.0</td>\n",
       "            <td>Film-Noir</td>\n",
       "            <td>None</td>\n",
       "            <td>12964.0</td>\n",
       "        </tr>\n",
       "    </tbody>\n",
       "</table>"
      ],
      "text/plain": [
       "[(90, 103.0, 'Animation', 28000000, 848784.0),\n",
       " (207, 141.0, 'Action', 833333, 593090.0),\n",
       " (169, 131.0, 'Adventure', 165000000, 575353.0),\n",
       " (169, 132.0, 'Sci-Fi', 165000000, 477498.0),\n",
       " (130, 124.0, 'Fantasy', 3180000, 363564.0),\n",
       " (130, 114.0, 'Family', 3180000, 304033.0),\n",
       " (321, 111.0, 'Comedy', 2208000, 277072.0),\n",
       " (169, 135.0, 'Drama', 165000000, 229483.0),\n",
       " (118, 125.0, 'Thriller', 19000000, 224872.0),\n",
       " (145, 145.0, 'Biography', 25000000, 195327.0),\n",
       " (145, 135.0, 'Crime', 25000000, 186103.0),\n",
       " (114, 143.0, 'History', None, 159555.0),\n",
       " (99, 142.0, 'War', None, 150938.0),\n",
       " (127, 124.0, 'Mystery', 33000000, 149536.0),\n",
       " (89, 123.0, 'Sport', 180000, 149347.0),\n",
       " (178, 154.0, 'Western', 1200000, 135622.0),\n",
       " (121, 134.0, 'Music', 2883848, 110212.0),\n",
       " (122, 121.0, 'Horror', 11000000, 94207.0),\n",
       " (142, 123.0, 'Romance', 55000000, 60876.0),\n",
       " (103, 103.0, 'Musical', 2540800, 24668.0),\n",
       " (93, 103.0, 'Film-Noir', None, 12964.0)]"
      ]
     },
     "execution_count": 21,
     "metadata": {},
     "output_type": "execute_result"
    }
   ],
   "source": [
    "%%sql sqlite:///../database/imdb.db\n",
    "SELECT screening as movie_length, round(avg(screening)) AS movie_length_mean, movie_category, budget, round(avg(budget)/avg(screening)) AS mean_budget_for_one_minute\n",
    "FROM (\n",
    "    SELECT m.*, c.category AS movie_category\n",
    "    FROM movies m\n",
    "    JOIN categories c ON ',' || m.category || ',' LIKE '%' || c.category || ',%')\n",
    "GROUP BY movie_category\n",
    "ORDER BY mean_budget_for_one_minute DESC"
   ]
  },
  {
   "cell_type": "code",
   "execution_count": 22,
   "metadata": {},
   "outputs": [],
   "source": [
    "# Quelles sont les séries les mieux notées ?"
   ]
  },
  {
   "cell_type": "code",
   "execution_count": 23,
   "metadata": {},
   "outputs": [
    {
     "name": "stdout",
     "output_type": "stream",
     "text": [
      "Done.\n"
     ]
    },
    {
     "data": {
      "text/html": [
       "<table>\n",
       "    <thead>\n",
       "        <tr>\n",
       "            <th>title</th>\n",
       "            <th>mark</th>\n",
       "        </tr>\n",
       "    </thead>\n",
       "    <tbody>\n",
       "        <tr>\n",
       "            <td>Breaking Bad</td>\n",
       "            <td>9.5</td>\n",
       "        </tr>\n",
       "        <tr>\n",
       "            <td>Planet Earth II</td>\n",
       "            <td>9.5</td>\n",
       "        </tr>\n",
       "        <tr>\n",
       "            <td>Bluey</td>\n",
       "            <td>9.4</td>\n",
       "        </tr>\n",
       "        <tr>\n",
       "            <td>Band of Brothers</td>\n",
       "            <td>9.4</td>\n",
       "        </tr>\n",
       "        <tr>\n",
       "            <td>Planet Earth</td>\n",
       "            <td>9.4</td>\n",
       "        </tr>\n",
       "        <tr>\n",
       "            <td>Our Planet</td>\n",
       "            <td>9.3</td>\n",
       "        </tr>\n",
       "        <tr>\n",
       "            <td>Cosmos</td>\n",
       "            <td>9.3</td>\n",
       "        </tr>\n",
       "        <tr>\n",
       "            <td>Scam 1992: The Harshad Mehta Story</td>\n",
       "            <td>9.3</td>\n",
       "        </tr>\n",
       "        <tr>\n",
       "            <td>Cosmos: A Spacetime Odyssey</td>\n",
       "            <td>9.3</td>\n",
       "        </tr>\n",
       "        <tr>\n",
       "            <td>Blue Planet II</td>\n",
       "            <td>9.3</td>\n",
       "        </tr>\n",
       "        <tr>\n",
       "            <td>Avatar: The Last Airbender</td>\n",
       "            <td>9.3</td>\n",
       "        </tr>\n",
       "        <tr>\n",
       "            <td>Chernobyl</td>\n",
       "            <td>9.3</td>\n",
       "        </tr>\n",
       "        <tr>\n",
       "            <td>The Wire</td>\n",
       "            <td>9.3</td>\n",
       "        </tr>\n",
       "        <tr>\n",
       "            <td>Shōgun</td>\n",
       "            <td>9.2</td>\n",
       "        </tr>\n",
       "        <tr>\n",
       "            <td>The World at War</td>\n",
       "            <td>9.2</td>\n",
       "        </tr>\n",
       "        <tr>\n",
       "            <td>Game of Thrones</td>\n",
       "            <td>9.2</td>\n",
       "        </tr>\n",
       "        <tr>\n",
       "            <td>Aspirants</td>\n",
       "            <td>9.2</td>\n",
       "        </tr>\n",
       "        <tr>\n",
       "            <td>The Sopranos</td>\n",
       "            <td>9.2</td>\n",
       "        </tr>\n",
       "        <tr>\n",
       "            <td>Sherlock</td>\n",
       "            <td>9.1</td>\n",
       "        </tr>\n",
       "        <tr>\n",
       "            <td>The Last Dance</td>\n",
       "            <td>9.1</td>\n",
       "        </tr>\n",
       "    </tbody>\n",
       "</table>"
      ],
      "text/plain": [
       "[('Breaking Bad', 9.5),\n",
       " ('Planet Earth II', 9.5),\n",
       " ('Bluey', 9.4),\n",
       " ('Band of Brothers', 9.4),\n",
       " ('Planet Earth', 9.4),\n",
       " ('Our Planet', 9.3),\n",
       " ('Cosmos', 9.3),\n",
       " ('Scam 1992: The Harshad Mehta Story', 9.3),\n",
       " ('Cosmos: A Spacetime Odyssey', 9.3),\n",
       " ('Blue Planet II', 9.3),\n",
       " ('Avatar: The Last Airbender', 9.3),\n",
       " ('Chernobyl', 9.3),\n",
       " ('The Wire', 9.3),\n",
       " ('Shōgun', 9.2),\n",
       " ('The World at War', 9.2),\n",
       " ('Game of Thrones', 9.2),\n",
       " ('Aspirants', 9.2),\n",
       " ('The Sopranos', 9.2),\n",
       " ('Sherlock', 9.1),\n",
       " ('The Last Dance', 9.1)]"
      ]
     },
     "execution_count": 23,
     "metadata": {},
     "output_type": "execute_result"
    }
   ],
   "source": [
    "%%sql sqlite:///../database/imdb.db\n",
    "SELECT title, mark FROM series\n",
    "ORDER BY mark DESC\n",
    "LIMIT 20"
   ]
  },
  {
   "cell_type": "code",
   "execution_count": 24,
   "metadata": {},
   "outputs": [],
   "source": [
    "# En fonction du genre, afficher la liste des séries les plus longues."
   ]
  },
  {
   "cell_type": "code",
   "execution_count": 25,
   "metadata": {},
   "outputs": [
    {
     "name": "stdout",
     "output_type": "stream",
     "text": [
      "Done.\n"
     ]
    },
    {
     "data": {
      "text/html": [
       "<table>\n",
       "    <thead>\n",
       "        <tr>\n",
       "            <th>title</th>\n",
       "            <th>nb_seasons</th>\n",
       "        </tr>\n",
       "    </thead>\n",
       "    <tbody>\n",
       "        <tr>\n",
       "            <td>The Simpsons</td>\n",
       "            <td>36</td>\n",
       "        </tr>\n",
       "        <tr>\n",
       "            <td>South Park</td>\n",
       "            <td>30</td>\n",
       "        </tr>\n",
       "        <tr>\n",
       "            <td>QI</td>\n",
       "            <td>21</td>\n",
       "        </tr>\n",
       "        <tr>\n",
       "            <td>It&#x27;s Always Sunny in Philadelphia</td>\n",
       "            <td>18</td>\n",
       "        </tr>\n",
       "        <tr>\n",
       "            <td>Taskmaster</td>\n",
       "            <td>17</td>\n",
       "        </tr>\n",
       "        <tr>\n",
       "            <td>Dragon Ball Z</td>\n",
       "            <td>16</td>\n",
       "        </tr>\n",
       "        <tr>\n",
       "            <td>Futurama</td>\n",
       "            <td>14</td>\n",
       "        </tr>\n",
       "        <tr>\n",
       "            <td>Archer</td>\n",
       "            <td>14</td>\n",
       "        </tr>\n",
       "        <tr>\n",
       "            <td>Doctor Who</td>\n",
       "            <td>13</td>\n",
       "        </tr>\n",
       "        <tr>\n",
       "            <td>Poirot</td>\n",
       "            <td>13</td>\n",
       "        </tr>\n",
       "    </tbody>\n",
       "</table>"
      ],
      "text/plain": [
       "[('The Simpsons', 36),\n",
       " ('South Park', 30),\n",
       " ('QI', 21),\n",
       " (\"It's Always Sunny in Philadelphia\", 18),\n",
       " ('Taskmaster', 17),\n",
       " ('Dragon Ball Z', 16),\n",
       " ('Futurama', 14),\n",
       " ('Archer', 14),\n",
       " ('Doctor Who', 13),\n",
       " ('Poirot', 13)]"
      ]
     },
     "execution_count": 25,
     "metadata": {},
     "output_type": "execute_result"
    }
   ],
   "source": [
    "%%sql sqlite:///../database/imdb.db\n",
    "SELECT title, nb_seasons FROM series\n",
    "ORDER BY nb_seasons DESC\n",
    "LIMIT 10"
   ]
  },
  {
   "cell_type": "code",
   "execution_count": 26,
   "metadata": {},
   "outputs": [
    {
     "name": "stdout",
     "output_type": "stream",
     "text": [
      "Done.\n"
     ]
    },
    {
     "data": {
      "text/html": [
       "<table>\n",
       "    <thead>\n",
       "        <tr>\n",
       "            <th>title</th>\n",
       "            <th>nb_episodes</th>\n",
       "        </tr>\n",
       "    </thead>\n",
       "    <tbody>\n",
       "        <tr>\n",
       "            <td>One Piece</td>\n",
       "            <td>1108</td>\n",
       "        </tr>\n",
       "        <tr>\n",
       "            <td>The Simpsons</td>\n",
       "            <td>764</td>\n",
       "        </tr>\n",
       "        <tr>\n",
       "            <td>Naruto: Shippuden</td>\n",
       "            <td>501</td>\n",
       "        </tr>\n",
       "        <tr>\n",
       "            <td>Gintama</td>\n",
       "            <td>375</td>\n",
       "        </tr>\n",
       "        <tr>\n",
       "            <td>El Chavo del Ocho</td>\n",
       "            <td>357</td>\n",
       "        </tr>\n",
       "        <tr>\n",
       "            <td>Last Week Tonight with John Oliver</td>\n",
       "            <td>346</td>\n",
       "        </tr>\n",
       "        <tr>\n",
       "            <td>QI</td>\n",
       "            <td>334</td>\n",
       "        </tr>\n",
       "        <tr>\n",
       "            <td>South Park</td>\n",
       "            <td>330</td>\n",
       "        </tr>\n",
       "        <tr>\n",
       "            <td>Dragon Ball Z</td>\n",
       "            <td>291</td>\n",
       "        </tr>\n",
       "        <tr>\n",
       "            <td>Adventure Time</td>\n",
       "            <td>289</td>\n",
       "        </tr>\n",
       "    </tbody>\n",
       "</table>"
      ],
      "text/plain": [
       "[('One Piece', 1108),\n",
       " ('The Simpsons', 764),\n",
       " ('Naruto: Shippuden', 501),\n",
       " ('Gintama', 375),\n",
       " ('El Chavo del Ocho', 357),\n",
       " ('Last Week Tonight with John Oliver', 346),\n",
       " ('QI', 334),\n",
       " ('South Park', 330),\n",
       " ('Dragon Ball Z', 291),\n",
       " ('Adventure Time', 289)]"
      ]
     },
     "execution_count": 26,
     "metadata": {},
     "output_type": "execute_result"
    }
   ],
   "source": [
    "%%sql sqlite:///../database/imdb.db\n",
    "SELECT title, nb_episodes FROM series\n",
    "ORDER BY nb_episodes DESC\n",
    "LIMIT 10"
   ]
  }
 ],
 "metadata": {
  "kernelspec": {
   "display_name": "Python 3 (ipykernel)",
   "language": "python",
   "name": "python3"
  },
  "language_info": {
   "codemirror_mode": {
    "name": "ipython",
    "version": 3
   },
   "file_extension": ".py",
   "mimetype": "text/x-python",
   "name": "python",
   "nbconvert_exporter": "python",
   "pygments_lexer": "ipython3",
   "version": "3.10.12"
  }
 },
 "nbformat": 4,
 "nbformat_minor": 4
}
